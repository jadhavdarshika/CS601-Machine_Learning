{
 "cells": [
  {
   "cell_type": "code",
   "execution_count": 16,
   "metadata": {},
   "outputs": [],
   "source": [
    "import os\n",
    "import cv2\n",
    "import easygui as e\n",
    "import numpy as np\n",
    "from PIL import Image\n",
    "import pickle"
   ]
  },
  {
   "cell_type": "code",
   "execution_count": 17,
   "metadata": {},
   "outputs": [],
   "source": [
    "face_dict={}\n",
    "path=r\"D:\\Projects\\face-detection\"\n",
    "name=\"\"\n",
    "names=[]"
   ]
  },
  {
   "cell_type": "code",
   "execution_count": 18,
   "metadata": {},
   "outputs": [],
   "source": [
    "def load_obj(name):\n",
    "    with open(name + '.pkl', 'rb') as f:\n",
    "        return pickle.load(f)"
   ]
  },
  {
   "cell_type": "code",
   "execution_count": 19,
   "metadata": {},
   "outputs": [],
   "source": [
    "class predict:\n",
    "        '''FUNCTION TO PREDICT THE DATA'''\n",
    "        def init():\n",
    "            global path\n",
    "            global names\n",
    "            recognizer = cv2.face.LBPHFaceRecognizer_create()\n",
    "            \n",
    "            recognizer.read(path + \"\\\\trainer.yml\")\n",
    "            \n",
    "            cascadePath = path + \"\\\\face.xml\"\n",
    "            faceCascade = cv2.CascadeClassifier(cascadePath)\n",
    "            #faceCascade=cv2.CascadeClassifier(cv2.data.haarcascades + 'haarcascade_frontalface_default.xml')\n",
    "            \n",
    "            nbr_predicted, conf = 0,0\n",
    "            print(path+ \"\\\\trained_faces.pkl\")\n",
    "            face_dict = load_obj(path + \"\\\\trained_faces.pkl\")#person names are loaded from pickle file\n",
    "            cam = cv2.VideoCapture(0)\n",
    "            while True:\n",
    "                ret, im = cam.read()\n",
    "                gray = cv2.cvtColor(im,cv2.COLOR_BGR2GRAY)\n",
    "                faces = faceCascade.detectMultiScale(gray, scaleFactor=1.2, minNeighbors=8, minSize=(100, 100), flags=cv2.CASCADE_SCALE_IMAGE)\n",
    "                for(x,y,w,h) in faces:\n",
    "                    nbr_predicted, conf = recognizer.predict(gray[y:y+h,x:x+w])\n",
    "                    # action.print_log(round(100 - conf, 2))\n",
    "                    cv2.rectangle(im,(x-50,y-50),(x+w+50,y+h+50),(225,0,0),2)\n",
    "                    label = face_dict[nbr_predicted]\n",
    "                    if(round(100 - conf, 2)>50):\n",
    "                        cv2.putText(im,str(label),(x,y+h),cv2.FONT_HERSHEY_SIMPLEX, 1,(255,255,255),2)\n",
    "                    else :\n",
    "                        cv2.putText(im,str(\"UNKNOWN\"),(x,y+h),cv2.FONT_HERSHEY_SIMPLEX, 1,(255,255,255),2)\n",
    "                    cv2.putText(im,\"press esc to exit\",(x-45,y-40),cv2.FONT_HERSHEY_SIMPLEX, 0.5,(255,255,0),2)\n",
    "\n",
    "                cv2.imshow('im',im)\n",
    "                k = cv2.waitKey(100) & 0xff\n",
    "                if k == 27:\n",
    "                    break\n",
    "            cam.release()\n",
    "            cv2.destroyAllWindows()"
   ]
  },
  {
   "cell_type": "code",
   "execution_count": 20,
   "metadata": {},
   "outputs": [
    {
     "name": "stdout",
     "output_type": "stream",
     "text": [
      "D:\\Projects\\face-detection\\trained_faces.pkl\n"
     ]
    }
   ],
   "source": [
    "predict.init()"
   ]
  },
  {
   "cell_type": "code",
   "execution_count": null,
   "metadata": {},
   "outputs": [],
   "source": []
  }
 ],
 "metadata": {
  "kernelspec": {
   "display_name": "Python 3 (ipykernel)",
   "language": "python",
   "name": "python3"
  },
  "language_info": {
   "codemirror_mode": {
    "name": "ipython",
    "version": 3
   },
   "file_extension": ".py",
   "mimetype": "text/x-python",
   "name": "python",
   "nbconvert_exporter": "python",
   "pygments_lexer": "ipython3",
   "version": "3.9.13"
  }
 },
 "nbformat": 4,
 "nbformat_minor": 4
}
