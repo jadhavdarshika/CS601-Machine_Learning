{
 "cells": [
  {
   "cell_type": "code",
   "execution_count": 1,
   "id": "131a91cd",
   "metadata": {},
   "outputs": [],
   "source": [
    "import numpy as np"
   ]
  },
  {
   "cell_type": "code",
   "execution_count": 2,
   "id": "4765bc97",
   "metadata": {},
   "outputs": [],
   "source": [
    "data = np.array([4, 5, 7, 1, 9])"
   ]
  },
  {
   "cell_type": "code",
   "execution_count": 3,
   "id": "4b672eee",
   "metadata": {},
   "outputs": [
    {
     "name": "stdout",
     "output_type": "stream",
     "text": [
      "Mean: 5.2\n"
     ]
    }
   ],
   "source": [
    "mean = np.mean(data)\n",
    "print(\"Mean:\", mean)"
   ]
  },
  {
   "cell_type": "code",
   "execution_count": 4,
   "id": "46fdaa78",
   "metadata": {},
   "outputs": [
    {
     "name": "stdout",
     "output_type": "stream",
     "text": [
      "Median: 5.0\n"
     ]
    }
   ],
   "source": [
    "median = np.median(data)\n",
    "print(\"Median:\", median)"
   ]
  },
  {
   "cell_type": "code",
   "execution_count": 5,
   "id": "baf4d30e",
   "metadata": {},
   "outputs": [
    {
     "name": "stdout",
     "output_type": "stream",
     "text": [
      "Standard Deviation: 2.7129319932501073\n"
     ]
    }
   ],
   "source": [
    "std_dev = np.std(data)\n",
    "print(\"Standard Deviation:\", std_dev)"
   ]
  },
  {
   "cell_type": "code",
   "execution_count": 6,
   "id": "49c5575d",
   "metadata": {},
   "outputs": [
    {
     "name": "stdout",
     "output_type": "stream",
     "text": [
      "Variance: 7.359999999999999\n"
     ]
    }
   ],
   "source": [
    "variance = np.var(data)\n",
    "print(\"Variance:\", variance)"
   ]
  },
  {
   "cell_type": "code",
   "execution_count": 7,
   "id": "6a359a80",
   "metadata": {},
   "outputs": [
    {
     "name": "stdout",
     "output_type": "stream",
     "text": [
      "Maximum Value: 9\n"
     ]
    }
   ],
   "source": [
    "max_val = np.max(data)\n",
    "print(\"Maximum Value:\", max_val)"
   ]
  },
  {
   "cell_type": "code",
   "execution_count": 8,
   "id": "cb813cff",
   "metadata": {},
   "outputs": [
    {
     "name": "stdout",
     "output_type": "stream",
     "text": [
      "Minimum Value: 1\n"
     ]
    }
   ],
   "source": [
    "min_val = np.min(data)\n",
    "print(\"Minimum Value:\", min_val)"
   ]
  },
  {
   "cell_type": "code",
   "execution_count": 9,
   "id": "87469c8e",
   "metadata": {},
   "outputs": [
    {
     "name": "stdout",
     "output_type": "stream",
     "text": [
      "Sum of all Values: 26\n"
     ]
    }
   ],
   "source": [
    "sum_val = np.sum(data)\n",
    "print(\"Sum of all Values:\", sum_val)"
   ]
  }
 ],
 "metadata": {
  "kernelspec": {
   "display_name": "Python 3 (ipykernel)",
   "language": "python",
   "name": "python3"
  },
  "language_info": {
   "codemirror_mode": {
    "name": "ipython",
    "version": 3
   },
   "file_extension": ".py",
   "mimetype": "text/x-python",
   "name": "python",
   "nbconvert_exporter": "python",
   "pygments_lexer": "ipython3",
   "version": "3.9.13"
  }
 },
 "nbformat": 4,
 "nbformat_minor": 5
}
