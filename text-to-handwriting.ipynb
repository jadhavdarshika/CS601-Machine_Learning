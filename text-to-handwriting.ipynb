{
 "cells": [
  {
   "cell_type": "code",
   "execution_count": 1,
   "id": "785bdd4a",
   "metadata": {},
   "outputs": [
    {
     "name": "stdout",
     "output_type": "stream",
     "text": [
      "Requirement already satisfied: pywhatkit==4.6 in c:\\users\\darsh\\anaconda3\\lib\\site-packages (4.6)\n",
      "Requirement already satisfied: pyautogui in c:\\users\\darsh\\anaconda3\\lib\\site-packages (from pywhatkit==4.6) (0.9.53)\n",
      "Requirement already satisfied: Pillow in c:\\users\\darsh\\anaconda3\\lib\\site-packages (from pywhatkit==4.6) (9.2.0)\n",
      "Requirement already satisfied: wikipedia in c:\\users\\darsh\\anaconda3\\lib\\site-packages (from pywhatkit==4.6) (1.4.0)\n",
      "Requirement already satisfied: requests in c:\\users\\darsh\\anaconda3\\lib\\site-packages (from pywhatkit==4.6) (2.28.1)\n",
      "Requirement already satisfied: mouseinfo in c:\\users\\darsh\\anaconda3\\lib\\site-packages (from pyautogui->pywhatkit==4.6) (0.1.3)\n",
      "Requirement already satisfied: pymsgbox in c:\\users\\darsh\\anaconda3\\lib\\site-packages (from pyautogui->pywhatkit==4.6) (1.0.9)\n",
      "Requirement already satisfied: pygetwindow>=0.0.5 in c:\\users\\darsh\\anaconda3\\lib\\site-packages (from pyautogui->pywhatkit==4.6) (0.0.9)\n",
      "Requirement already satisfied: pyscreeze>=0.1.21 in c:\\users\\darsh\\anaconda3\\lib\\site-packages (from pyautogui->pywhatkit==4.6) (0.1.28)\n",
      "Requirement already satisfied: PyTweening>=1.0.1 in c:\\users\\darsh\\anaconda3\\lib\\site-packages (from pyautogui->pywhatkit==4.6) (1.0.4)\n",
      "Requirement already satisfied: urllib3<1.27,>=1.21.1 in c:\\users\\darsh\\anaconda3\\lib\\site-packages (from requests->pywhatkit==4.6) (1.26.11)\n",
      "Requirement already satisfied: charset-normalizer<3,>=2 in c:\\users\\darsh\\anaconda3\\lib\\site-packages (from requests->pywhatkit==4.6) (2.0.4)\n",
      "Requirement already satisfied: idna<4,>=2.5 in c:\\users\\darsh\\anaconda3\\lib\\site-packages (from requests->pywhatkit==4.6) (3.3)\n",
      "Requirement already satisfied: certifi>=2017.4.17 in c:\\users\\darsh\\anaconda3\\lib\\site-packages (from requests->pywhatkit==4.6) (2022.9.14)\n",
      "Requirement already satisfied: beautifulsoup4 in c:\\users\\darsh\\anaconda3\\lib\\site-packages (from wikipedia->pywhatkit==4.6) (4.11.1)\n",
      "Requirement already satisfied: pyrect in c:\\users\\darsh\\anaconda3\\lib\\site-packages (from pygetwindow>=0.0.5->pyautogui->pywhatkit==4.6) (0.2.0)\n",
      "Requirement already satisfied: soupsieve>1.2 in c:\\users\\darsh\\anaconda3\\lib\\site-packages (from beautifulsoup4->wikipedia->pywhatkit==4.6) (2.3.1)\n",
      "Requirement already satisfied: pyperclip in c:\\users\\darsh\\anaconda3\\lib\\site-packages (from mouseinfo->pyautogui->pywhatkit==4.6) (1.8.2)\n"
     ]
    }
   ],
   "source": [
    "!pip install pywhatkit==4.6"
   ]
  },
  {
   "cell_type": "code",
   "execution_count": null,
   "id": "d60ce630",
   "metadata": {},
   "outputs": [],
   "source": [
    "import pywhatkit"
   ]
  },
  {
   "cell_type": "code",
   "execution_count": null,
   "id": "58ce67b4",
   "metadata": {},
   "outputs": [],
   "source": [
    "text = input(\"Enter the text to convert to handwriting: \")\n",
    "filename = input(\"Enter the filename to save the image as: \")"
   ]
  },
  {
   "cell_type": "code",
   "execution_count": null,
   "id": "d0cdaf76",
   "metadata": {},
   "outputs": [],
   "source": [
    "pywhatkit.text_to_handwriting(text, save_to=filename)"
   ]
  }
 ],
 "metadata": {
  "kernelspec": {
   "display_name": "Python 3 (ipykernel)",
   "language": "python",
   "name": "python3"
  },
  "language_info": {
   "codemirror_mode": {
    "name": "ipython",
    "version": 3
   },
   "file_extension": ".py",
   "mimetype": "text/x-python",
   "name": "python",
   "nbconvert_exporter": "python",
   "pygments_lexer": "ipython3",
   "version": "3.9.13"
  }
 },
 "nbformat": 4,
 "nbformat_minor": 5
}
