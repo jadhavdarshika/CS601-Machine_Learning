{
 "cells": [
  {
   "cell_type": "code",
   "execution_count": 1,
   "metadata": {},
   "outputs": [],
   "source": [
    "import cv2\n",
    "\n",
    "cascade_face = cv2.CascadeClassifier(cv2.data.haarcascades +'haarcascade_frontalface_default.xml') \n",
    "cascade_eye = cv2.CascadeClassifier(cv2.data.haarcascades +'haarcascade_eye.xml') \n",
    "cascade_smile = cv2.CascadeClassifier(cv2.data.haarcascades +'haarcascade_smile.xml')\n",
    "\n",
    "def detection(grayscale, img):\n",
    "    face = cascade_face.detectMultiScale(grayscale, 1.3, 5)\n",
    "    for (x_face, y_face, w_face, h_face) in face:\n",
    "        cv2.rectangle(img, (x_face, y_face), (x_face+w_face, y_face+h_face), (255, 130, 0), 2)\n",
    "        ri_grayscale = grayscale[y_face:y_face+h_face, x_face:x_face+w_face]\n",
    "        ri_color = img[y_face:y_face+h_face, x_face:x_face+w_face] \n",
    "        eye = cascade_eye.detectMultiScale(ri_grayscale, 1.2, 18) \n",
    "        for (x_eye, y_eye, w_eye, h_eye) in eye:\n",
    "            cv2.rectangle(ri_color,(x_eye, y_eye),(x_eye+w_eye, y_eye+h_eye), (0, 180, 60), 2) \n",
    "        smile = cascade_smile.detectMultiScale(ri_grayscale, 1.7, 20)\n",
    "        for (x_smile, y_smile, w_smile, h_smile) in smile: \n",
    "            cv2.rectangle(ri_color,(x_smile, y_smile),(x_smile+w_smile, y_smile+h_smile), (255, 0, 130), 2)\n",
    "    return img \n",
    "\n",
    "vc = cv2.VideoCapture(0) \n",
    "\n",
    "while True:\n",
    "    _, img = vc.read() \n",
    "    grayscale = cv2.cvtColor(img, cv2.COLOR_BGR2GRAY) \n",
    "    final = detection(grayscale, img) \n",
    "    cv2.imshow('Video', final) \n",
    "    if cv2.waitKey(1) & 0xFF == ord('q'):\n",
    "        break \n",
    "\n",
    "vc.release() \n",
    "cv2.destroyAllWindows() "
   ]
  },
  {
   "cell_type": "code",
   "execution_count": null,
   "metadata": {},
   "outputs": [],
   "source": []
  },
  {
   "cell_type": "code",
   "execution_count": null,
   "metadata": {},
   "outputs": [],
   "source": []
  }
 ],
 "metadata": {
  "kernelspec": {
   "display_name": "Python 3 (ipykernel)",
   "language": "python",
   "name": "python3"
  },
  "language_info": {
   "codemirror_mode": {
    "name": "ipython",
    "version": 3
   },
   "file_extension": ".py",
   "mimetype": "text/x-python",
   "name": "python",
   "nbconvert_exporter": "python",
   "pygments_lexer": "ipython3",
   "version": "3.9.13"
  }
 },
 "nbformat": 4,
 "nbformat_minor": 4
}
